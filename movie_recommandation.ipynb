{
 "cells": [
  {
   "cell_type": "code",
   "execution_count": 15,
   "id": "142492fe-d81d-4a40-84aa-216a09f2e729",
   "metadata": {},
   "outputs": [],
   "source": [
    "data=pd.merge(df.drop('ts',axis=1),movies[['item_id' ,'title']],on='item_id')"
   ]
  },
  {
   "cell_type": "code",
   "execution_count": 23,
   "id": "c8df242e-68e8-4b36-a0a0-0456466130d2",
   "metadata": {},
   "outputs": [],
   "source": [
    "rate_count=data.groupby('title')['rating'].count()\n",
    "df_pivot=data.pivot_table(index='user_id',columns='title',values='rating')\n",
    "movies.columns = movies.columns.str.strip()\n",
    "df.columns = df.columns.str.strip()"
   ]
  },
  {
   "cell_type": "code",
   "execution_count": 28,
   "id": "e73485f1-baca-49f4-8af0-6defa84cfd3a",
   "metadata": {},
   "outputs": [
    {
     "name": "stdout",
     "output_type": "stream",
     "text": [
      "Index(['user_id', 'item_id', 'rating', 'ts'], dtype='object')\n"
     ]
    }
   ],
   "source": [
    "movies.columns = movies.columns.str.strip()\n",
    "df.columns = df.columns.str.strip()\n",
    "print(df.columns)"
   ]
  },
  {
   "cell_type": "code",
   "execution_count": 45,
   "id": "0f15d612-9c5a-481e-ac0e-e5cab536ed3b",
   "metadata": {},
   "outputs": [],
   "source": [
    "import tkinter as tk\n",
    "app=tk.Tk()\n",
    "app.geometry('450x300')\n",
    "app.title('Movie Recommendation Engine')\n",
    "listbox=tk.Listbox(app, height=15,width=30,bg='white',fg='black')\n",
    "listbox.place(x=20,y=20) \n",
    "for i,t in enumerate(data['title'].unique()):\n",
    "    listbox.insert(i+1,t)\n",
    "\n",
    "def recommend():\n",
    "    inp=listbox.get(listbox.curselection())\n",
    "    sim_df=pd.DataFrame(df_pivot.corrwith(df_pivot[inp]),columns=['Correlation'])\n",
    "    sim_df['count']=rate_count\n",
    "    recom=sim_df[(sim_df['count']>100)].sort_values('Correlation',ascending=False)\n",
    "    recom.drop(inp,axis=0,inplace=True)\n",
    "    recommended=recom.index[:3]\n",
    "    result1.set(recommended[0])\n",
    "    result2.set(recommended[1])\n",
    "    result3.set(recommended[2])\n",
    "    print(inp)\n",
    "    print(recommended)\n",
    "\n",
    "def recommend():\n",
    "    inp=listbox.get(listbox.curselection())\n",
    "    sim_df=pd.DataFrame(df_pivot.corrwith(df_pivot[inp]),columns=['Correlation'])\n",
    "    sim_df['count']=rate_count\n",
    "    recom=sim_df[(sim_df['count']>100)].sort_values('Correlation',ascending=False)\n",
    "    recom.drop(inp,axis=0,inplace=True)\n",
    "    recommended=recom.index[:3]\n",
    "    result1.set(recommended[0])\n",
    "    result2.set(recommended[1])\n",
    "    result3.set(recommended[2])\n",
    "\n",
    "tk.Button(app,text='Show Recommendation',command=recommend,bg='red',fg='white').place(x=250,y=30)\n",
    "\n",
    "result1=tk.Variable(app)\n",
    "result1.set('Result 1')\n",
    "tk.Label(app,textvariable=result1).place(x=250,y=100)\n",
    "\n",
    "result2=tk.Variable(app)\n",
    "result2.set('Result 2')\n",
    "tk.Label(app,textvariable=result2).place(x=250,y=130)\n",
    "\n",
    "result3=tk.Variable(app)\n",
    "result3.set('Result 3')\n",
    "tk.Label(app,textvariable=result3).place(x=250,y=160)\n",
    "\n",
    "\n",
    "\n",
    "app.mainloop()"
   ]
  },
  {
   "cell_type": "code",
   "execution_count": 69,
   "id": "3f5883af-339a-40b6-892c-38dc7362eb7e",
   "metadata": {},
   "outputs": [],
   "source": [
    "import tkinter as tk\n",
    "import numpy as np\n",
    "import pandas as pd\n",
    "import warnings\n",
    "\n",
    "warnings.filterwarnings('ignore')\n",
    "df=pd.read_csv(r'u.data',sep='\\t',names=['user_id','item_id','rating','ts'])\n",
    "cols=\"item_id|title| release date | video release date |IMDb URL | unknown | Action | Adventure | Animation |Children's | Comedy | Crime | Documentary | Drama | Fantasy |Film-Noir | Horror | Musical | Mystery | Romance | Sci-Fi |Thriller | War | Western |\".split('|')\n",
    "movies=pd.read_csv(r'u.item',sep='|',names=cols)\n",
    "\n",
    "data=pd.merge(df.drop('ts',axis=1),movies[['item_id' ,'title']],on='item_id')\n",
    "\n",
    "rate_count=data.groupby('title')['rating'].count()\n",
    "df_pivot=data.pivot_table(index='user_id',columns='title',values='rating')\n",
    "movies.columns = movies.columns.str.strip()\n",
    "df.columns = df.columns.str.strip()\n",
    "\n",
    "app=tk.Tk()\n",
    "app.geometry('450x300')\n",
    "app.title('Movie Recommendation Engine')\n",
    "listbox=tk.Listbox(app, height=15,width=30,bg='skyblue',fg='black')\n",
    "listbox.place(x=20,y=20) \n",
    "for i,t in enumerate(data['title'].unique()):\n",
    "    listbox.insert(i+1,t)\n",
    "\n",
    "def recommend():\n",
    "    inp=listbox.get(listbox.curselection())\n",
    "    sim_df=pd.DataFrame(df_pivot.corrwith(df_pivot[inp]),columns=['Correlation'])\n",
    "    sim_df['count']=rate_count\n",
    "    recom=sim_df[(sim_df['count']>100)].sort_values('Correlation',ascending=False)\n",
    "    recom.drop(inp,axis=0,inplace=True)\n",
    "    recommended=recom.index[:3]\n",
    "    result1.set(recommended[0])\n",
    "    result2.set(recommended[1])\n",
    "    result3.set(recommended[2])\n",
    "    \n",
    "    \n",
    "tk.Button(app,text='Show Recommendation',command=recommend,bg='blue',fg='black').place(x=250,y=30)\n",
    "\n",
    "result1=tk.Variable(app)\n",
    "result1.set('Result 1')\n",
    "tk.Label(app,textvariable=result1,bg='blue',fg='black').place(x=250,y=100)\n",
    "\n",
    "result2=tk.Variable(app)\n",
    "result2.set('Result 2')\n",
    "tk.Label(app,textvariable=result2,bg='blue',fg='black').place(x=250,y=130)\n",
    "\n",
    "result3=tk.Variable(app)\n",
    "result3.set('Result 3')\n",
    "tk.Label(app,textvariable=result3,bg='blue',fg='black').place(x=250,y=160)\n",
    "\n",
    "\n",
    "\n",
    "app.mainloop()"
   ]
  },
  {
   "cell_type": "code",
   "execution_count": null,
   "id": "5e0fc9a8-1ef6-447a-ba68-d0b5d24a2429",
   "metadata": {},
   "outputs": [],
   "source": []
  }
 ],
 "metadata": {
  "kernelspec": {
   "display_name": "Python 3",
   "language": "python",
   "name": "python3"
  },
  "language_info": {
   "codemirror_mode": {
    "name": "ipython",
    "version": 3
   },
   "file_extension": ".py",
   "mimetype": "text/x-python",
   "name": "python",
   "nbconvert_exporter": "python",
   "pygments_lexer": "ipython3",
   "version": "3.8.8"
  }
 },
 "nbformat": 4,
 "nbformat_minor": 5
}
