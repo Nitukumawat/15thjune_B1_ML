{
 "cells": [
  {
   "cell_type": "code",
   "execution_count": 1,
   "id": "c0ede32a-a214-4e88-a1ec-ea0dafd101f1",
   "metadata": {},
   "outputs": [],
   "source": [
    "import pandas as pd"
   ]
  },
  {
   "cell_type": "code",
   "execution_count": 2,
   "id": "3c425c87-7bd9-44d7-9c2c-1e1eba752fb6",
   "metadata": {},
   "outputs": [],
   "source": [
    "m=pd.read_pickle(r'house_price_predictor.pkl')"
   ]
  },
  {
   "cell_type": "code",
   "execution_count": 3,
   "id": "c5fd9e59-c4fc-4fa9-8493-58b94ece9db9",
   "metadata": {},
   "outputs": [
    {
     "data": {
      "text/plain": [
       "LinearRegression()"
      ]
     },
     "execution_count": 3,
     "metadata": {},
     "output_type": "execute_result"
    }
   ],
   "source": [
    "m"
   ]
  },
  {
   "cell_type": "code",
   "execution_count": 4,
   "id": "a7ba9fc9-fd93-4516-b809-c5da88431c4a",
   "metadata": {},
   "outputs": [
    {
     "name": "stdin",
     "output_type": "stream",
     "text": [
      "Enter the Income: 50000\n",
      "Enter the House Age: 5\n",
      "Enter the Number of Rooms: 6\n",
      "Enter the Population: 4000\n"
     ]
    }
   ],
   "source": [
    "inco= eval(input('Enter the Income:'))\n",
    "age= eval(input('Enter the House Age:'))\n",
    "room= eval(input('Enter the Number of Rooms:'))\n",
    "pop= eval(input('Enter the Population:'))\n",
    "\n",
    "quary=pd.DataFrame({'Income':[inco],'House_Age':[age],'Rooms':[room],'Population':[pop]})"
   ]
  },
  {
   "cell_type": "code",
   "execution_count": 5,
   "id": "85b3361f-e2db-4753-9e7d-ae1cfacc31d7",
   "metadata": {},
   "outputs": [
    {
     "data": {
      "text/html": [
       "<div>\n",
       "<style scoped>\n",
       "    .dataframe tbody tr th:only-of-type {\n",
       "        vertical-align: middle;\n",
       "    }\n",
       "\n",
       "    .dataframe tbody tr th {\n",
       "        vertical-align: top;\n",
       "    }\n",
       "\n",
       "    .dataframe thead th {\n",
       "        text-align: right;\n",
       "    }\n",
       "</style>\n",
       "<table border=\"1\" class=\"dataframe\">\n",
       "  <thead>\n",
       "    <tr style=\"text-align: right;\">\n",
       "      <th></th>\n",
       "      <th>Income</th>\n",
       "      <th>House_Age</th>\n",
       "      <th>Rooms</th>\n",
       "      <th>Population</th>\n",
       "    </tr>\n",
       "  </thead>\n",
       "  <tbody>\n",
       "    <tr>\n",
       "      <th>0</th>\n",
       "      <td>50000</td>\n",
       "      <td>5</td>\n",
       "      <td>6</td>\n",
       "      <td>4000</td>\n",
       "    </tr>\n",
       "  </tbody>\n",
       "</table>\n",
       "</div>"
      ],
      "text/plain": [
       "   Income  House_Age  Rooms  Population\n",
       "0   50000          5      6        4000"
      ]
     },
     "execution_count": 5,
     "metadata": {},
     "output_type": "execute_result"
    }
   ],
   "source": [
    "quary"
   ]
  },
  {
   "cell_type": "code",
   "execution_count": 7,
   "id": "fd6a5796-838f-4a37-abe4-f3b8bda5a606",
   "metadata": {},
   "outputs": [
    {
     "data": {
      "text/plain": [
       "58247.0"
      ]
     },
     "execution_count": 7,
     "metadata": {},
     "output_type": "execute_result"
    }
   ],
   "source": [
    "round(m.predict(quary)[0],0)"
   ]
  },
  {
   "cell_type": "code",
   "execution_count": null,
   "id": "d5021671-b93d-4b70-a42b-7c014ce67efb",
   "metadata": {},
   "outputs": [],
   "source": []
  }
 ],
 "metadata": {
  "kernelspec": {
   "display_name": "Python 3",
   "language": "python",
   "name": "python3"
  },
  "language_info": {
   "codemirror_mode": {
    "name": "ipython",
    "version": 3
   },
   "file_extension": ".py",
   "mimetype": "text/x-python",
   "name": "python",
   "nbconvert_exporter": "python",
   "pygments_lexer": "ipython3",
   "version": "3.8.8"
  }
 },
 "nbformat": 4,
 "nbformat_minor": 5
}
